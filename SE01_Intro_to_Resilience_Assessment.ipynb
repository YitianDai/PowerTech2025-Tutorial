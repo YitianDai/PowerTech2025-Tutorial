{
 "cells": [
  {
   "cell_type": "markdown",
   "id": "4b664c2a",
   "metadata": {},
   "source": [
    "![Workshop Banner](https://raw.githubusercontent.com/YitianDai/PowerTech2025-Tutorial/main/Figs/SE01.png)\n",
    "[![Open In Colab](https://colab.research.google.com/assets/colab-badge.svg)](https://colab.research.google.com/github/YitianDai/PowerTech2025-Tutorial/blob/main/SE01_Intro_to_Resilience_Assessment.ipynb)\n"
   ]
  }
 ],
 "metadata": {
  "language_info": {
   "name": "python"
  }
 },
 "nbformat": 4,
 "nbformat_minor": 5
}
